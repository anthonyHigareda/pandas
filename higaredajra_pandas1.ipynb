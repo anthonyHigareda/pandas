{
 "cells": [
  {
   "cell_type": "code",
   "execution_count": null,
   "metadata": {},
   "outputs": [],
   "source": [
    "import pandas as pd\n",
    "import numpy as np\n",
    "import matplotlib.pyplot as plt"
   ]
  },
  {
   "cell_type": "markdown",
   "metadata": {},
   "source": [
    "# Let's start by reading in a data set\n",
    "\n",
    "pandas has a built in csv reader, as well as readers for many other types of files\n"
   ]
  },
  {
   "cell_type": "code",
   "metadata": {
    "ExecuteTime": {
     "end_time": "2025-09-23T18:59:02.975111Z",
     "start_time": "2025-09-23T18:59:02.377778Z"
    }
   },
   "source": [
    "#Note - parts of this tutorial are inspired by https://realpython.com/pandas-python-explore-dataset/\n",
    "\n",
    "ames = pd.read_csv(\"AmesHousing.csv\")\n",
    "type(ames)"
   ],
   "outputs": [
    {
     "ename": "NameError",
     "evalue": "name 'pd' is not defined",
     "output_type": "error",
     "traceback": [
      "\u001B[1;31m---------------------------------------------------------------------------\u001B[0m",
      "\u001B[1;31mNameError\u001B[0m                                 Traceback (most recent call last)",
      "Cell \u001B[1;32mIn[1], line 3\u001B[0m\n\u001B[0;32m      1\u001B[0m \u001B[38;5;66;03m#Note - parts of this tutorial are inspired by https://realpython.com/pandas-python-explore-dataset/\u001B[39;00m\n\u001B[1;32m----> 3\u001B[0m ames \u001B[38;5;241m=\u001B[39m pd\u001B[38;5;241m.\u001B[39mread_csv(\u001B[38;5;124m\"\u001B[39m\u001B[38;5;124mAmesHousing.csv\u001B[39m\u001B[38;5;124m\"\u001B[39m)\n\u001B[0;32m      4\u001B[0m \u001B[38;5;28mtype\u001B[39m(ames)\n",
      "\u001B[1;31mNameError\u001B[0m: name 'pd' is not defined"
     ]
    }
   ],
   "execution_count": 1
  },
  {
   "cell_type": "code",
   "execution_count": null,
   "metadata": {},
   "outputs": [],
   "source": [
    "print(len(ames)) #rows in data set\n",
    "print(ames.shape) #tuple with (rows, cols)"
   ]
  },
  {
   "cell_type": "code",
   "execution_count": null,
   "metadata": {},
   "outputs": [],
   "source": [
    "# to get a view of the first five rows of the data set, use the .head() method\n",
    "ames.head()"
   ]
  },
  {
   "cell_type": "code",
   "execution_count": null,
   "metadata": {},
   "outputs": [],
   "source": [
    "# we are missing some columns - we can set an option to see all columns and be able to scroll\n",
    "pd.set_option(\"display.max.columns\", None)"
   ]
  },
  {
   "cell_type": "code",
   "execution_count": null,
   "metadata": {},
   "outputs": [],
   "source": [
    "# to display the last n rows, use .tail(n) - n defaults to 5 like for .head()\n",
    "ames.tail(10)"
   ]
  },
  {
   "cell_type": "code",
   "execution_count": null,
   "metadata": {},
   "outputs": [],
   "source": [
    "# like numpy arrays, each column in pandas has a data type\n",
    "# unlike numpy arrays, each column can have a different data type\n",
    "\n",
    "#view data types for each column with the .info() method\n",
    "ames.info()"
   ]
  },
  {
   "cell_type": "code",
   "execution_count": null,
   "metadata": {},
   "outputs": [],
   "source": [
    "# a brief description of the numeric columns can be obtained using the .describe() method\n",
    "ames.describe()"
   ]
  },
  {
   "cell_type": "code",
   "execution_count": null,
   "metadata": {},
   "outputs": [],
   "source": [
    "# we probably do not need all 82 columns - lets select the columns we really care about\n",
    "\n",
    "# to select a specific subset of columns, put a list of the col names in the selection brackets\n",
    "ames = ames[[\"Lot Area\", \"Year Built\", \"Street\", \"Bldg Type\", \"SalePrice\", \"House Style\", \"Fireplaces\", \"Overall Qual\", \"Overall Cond\"]]\n",
    "ames.head()\n",
    "\n"
   ]
  },
  {
   "cell_type": "code",
   "execution_count": null,
   "metadata": {
    "scrolled": true
   },
   "outputs": [],
   "source": [
    "# to determine how often specific values occur in a column,\n",
    "# use the .value_counts() method on that columnn\n",
    "\n",
    "print(ames[\"Overall Qual\"].value_counts())\n",
    "print()\n",
    "print(ames[\"Street\"].value_counts())"
   ]
  },
  {
   "cell_type": "code",
   "execution_count": null,
   "metadata": {},
   "outputs": [],
   "source": [
    "# imagine you want to know more about houses that have a quality score of 10\n",
    "\n",
    "ames[ames[\"Overall Qual\"] == 10].describe() # returns a smaller data frame with just quality == 10"
   ]
  },
  {
   "cell_type": "code",
   "execution_count": null,
   "metadata": {},
   "outputs": [],
   "source": [
    "# is the overall quality reflective of the price of the house?\n",
    "\n",
    "# groupby allows you to compress your data based on some criteria\n",
    "# if you pass in a column name, it will group by the possible options \n",
    "# for that column\n",
    "\n",
    "#Note, groupby() returns a groupby object that you have to call a method on\n",
    "# it works by \"split-apply-combine\" in that you split your data on some \n",
    "# criteria, apply some method to it, then combine the results \n",
    "dataByQual = ames.groupby(\"Overall Qual\").mean(numeric_only = True)\n",
    "dataByQual"
   ]
  },
  {
   "cell_type": "code",
   "execution_count": null,
   "metadata": {},
   "outputs": [],
   "source": [
    "# Problem: you want to see the stats for the top 10 most expensive houses in the data set\n",
    "\n",
    "#first sort the data by price\n",
    "ames = ames.sort_values(by = [\"SalePrice\", 'Year Built'], ascending=False) #sort by col \"SalePrice\" in descending order\n",
    "ames.head(10) #passing a number into head will reveal that many rows"
   ]
  },
  {
   "cell_type": "markdown",
   "metadata": {},
   "source": [
    "# More general pandas info"
   ]
  },
  {
   "cell_type": "code",
   "execution_count": null,
   "metadata": {},
   "outputs": [],
   "source": [
    "# grab a single column\n",
    "singleColumn = ames[\"SalePrice\"]\n",
    "type(singleColumn)"
   ]
  },
  {
   "cell_type": "code",
   "execution_count": null,
   "metadata": {},
   "outputs": [],
   "source": [
    "# A single column of a data frame is a \"series\" \n",
    "# Consequently, data frames are groups of series that share an index\n",
    "\n",
    "#each series has an index and values (like a dictionary)\n",
    "\n",
    "print(singleColumn.index)\n",
    "print()\n",
    "print(singleColumn.values)"
   ]
  },
  {
   "cell_type": "code",
   "execution_count": null,
   "metadata": {},
   "outputs": [],
   "source": [
    "# also noteworthy is that pandas is built on numpy\n",
    "type(singleColumn.values)"
   ]
  },
  {
   "cell_type": "code",
   "execution_count": null,
   "metadata": {},
   "outputs": [],
   "source": [
    "# you can create series from both lists and dictionaries\n",
    "\n",
    "# from a list\n",
    "enrollmentSeries = pd.Series([8624,44718,31672], index = [\"Notre Dame\", \"Michigan\", \"Alabama\"])\n",
    "print(enrollmentSeries)\n",
    "print()\n",
    "\n",
    "#from a dictionary\n",
    "championships = {\"Notre Dame\" : 13,\n",
    "                \"Michigan\": 11,\n",
    "                \"Alabama\" : 15}\n",
    "\n",
    "championshipSeries = pd.Series(championships) #keys become index, values are values\n",
    "print(championshipSeries)"
   ]
  },
  {
   "cell_type": "code",
   "execution_count": null,
   "metadata": {},
   "outputs": [],
   "source": [
    "# because these two series have the same index, \n",
    "#they can be combined into a data frame \n",
    "\n",
    "schoolData = pd.DataFrame({\"Enrollment\":enrollmentSeries,\n",
    "                          \"Championships\":championshipSeries})\n",
    "schoolData"
   ]
  },
  {
   "cell_type": "code",
   "execution_count": null,
   "metadata": {},
   "outputs": [],
   "source": [
    "# data frames are also built using numpy arrays\n",
    "schoolData.values"
   ]
  },
  {
   "cell_type": "code",
   "execution_count": null,
   "metadata": {},
   "outputs": [],
   "source": [
    "# Easiest way to think about data frames is a dictionary of series objects\n",
    "# Can access rows by their label\n",
    "\n",
    "schoolData[\"Enrollment\"] #Returns a series object"
   ]
  },
  {
   "cell_type": "code",
   "execution_count": null,
   "metadata": {},
   "outputs": [],
   "source": [
    "# To get a specific enrollment number, call the index of that column\n",
    "schoolData[\"Enrollment\"][\"Notre Dame\"]"
   ]
  },
  {
   "cell_type": "code",
   "execution_count": null,
   "metadata": {},
   "outputs": [],
   "source": [
    "# to access specific rows, use the .loc method\n",
    "schoolData.loc[\"Michigan\"]"
   ]
  },
  {
   "cell_type": "code",
   "execution_count": null,
   "metadata": {},
   "outputs": [],
   "source": [
    "# You can also access rows by their row number (zero indexed) using .iloc\n",
    "schoolData.iloc[1]"
   ]
  },
  {
   "cell_type": "code",
   "execution_count": null,
   "metadata": {},
   "outputs": [],
   "source": [
    "# You can query your data frame using boolean logic\n",
    "since2000 = ames[ames[\"Year Built\"] >= 2000] #put a condition on a series in the data frame\n",
    "since2000.shape"
   ]
  },
  {
   "cell_type": "code",
   "execution_count": null,
   "metadata": {},
   "outputs": [],
   "source": [
    "# you can combine conditions together as well\n",
    "\n",
    "newDataFrame = ames[\n",
    "    (ames[\"Year Built\"] > 2000) &\n",
    "    (ames[\"SalePrice\"] < 200000) & \n",
    "    (ames[\"Bldg Type\"] == \"1Fam\")\n",
    "                   ]\n",
    "newDataFrame"
   ]
  },
  {
   "cell_type": "code",
   "execution_count": null,
   "metadata": {},
   "outputs": [],
   "source": [
    "# you can also create new columns based on the data in the old columns\n",
    "\n",
    "ames[\"TotalScore\"] = ames[\"Overall Cond\"] + ames[\"Overall Qual\"]\n",
    "\n",
    "ames.head()"
   ]
  },
  {
   "cell_type": "code",
   "execution_count": null,
   "metadata": {},
   "outputs": [],
   "source": [
    "# pandas also interfaces with matplotlib \n",
    "# x axis defaults to index values, y axis to what you specify\n",
    "\n",
    "# to plot whether total score is correlated with sale price, create \n",
    "# data frame with total score as index\n",
    "totalScoreDF = ames.groupby(\"TotalScore\").mean(numeric_only = True)\n",
    "totalScoreDF"
   ]
  },
  {
   "cell_type": "code",
   "execution_count": null,
   "metadata": {},
   "outputs": [],
   "source": [
    "totalScoreDF[\"SalePrice\"].plot()\n",
    "#can add to plot just like for matplotlib\n",
    "plt.ylabel(\"Sale Price\")"
   ]
  },
  {
   "cell_type": "code",
   "execution_count": null,
   "metadata": {},
   "outputs": [],
   "source": [
    "#personal opinion - it is easier to work with matplotlib alone than \n",
    "# plotting from data frames directly - matplotlib interfaces well with pandas\n",
    "\n",
    "plt.plot(totalScoreDF.index,totalScoreDF[\"SalePrice\"])\n",
    "plt.xlabel(\"Total Score\")\n",
    "plt.ylabel(\"Sale Price\")\n",
    "plt.xticks(np.arange(2,20,2))"
   ]
  },
  {
   "cell_type": "markdown",
   "metadata": {},
   "source": [
    "# Examples\n",
    "\n",
    "Download the 2021_batting_data.csv file from Canvas (Data from baseball-reference.com). Read this data set into a pandas Da and answer the following questions:\n",
    "\n",
    "1) Of players with less than 40 at bats, who has the highest number of home runs (HR)?\n",
    "\n",
    "2) What is the age of the player on the Minnesota Twins (team id MIN) has the highest number of walks (BB)?\n",
    "\n",
    "3) Create a new column called SO/AB that calculates how often a player strikes out (SO) divided by the number of at-bats for that player (AB). Of non-pitchers (pitchers have a Pos Summary == \"/1\"), which player has the highest highest SO/AB in the league?\n",
    "\n",
    "4) Create a plot (either natively in matplotlib or with pandas plotting tool) that plots total number of at-bats on the x-axis and the average SO/AB for a player with that number of at-bats on the y-axis. HINT: you will probably want to use groupby() on the AB column to do this. Can you draw any conclusions from this plot?"
   ]
  },
  {
   "cell_type": "code",
   "execution_count": null,
   "metadata": {},
   "outputs": [],
   "source": []
  }
 ],
 "metadata": {
  "kernelspec": {
   "display_name": "Python 3 (ipykernel)",
   "language": "python",
   "name": "python3"
  },
  "language_info": {
   "codemirror_mode": {
    "name": "ipython",
    "version": 3
   },
   "file_extension": ".py",
   "mimetype": "text/x-python",
   "name": "python",
   "nbconvert_exporter": "python",
   "pygments_lexer": "ipython3",
   "version": "3.11.10"
  }
 },
 "nbformat": 4,
 "nbformat_minor": 4
}
